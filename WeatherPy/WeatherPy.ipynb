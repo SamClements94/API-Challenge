{
 "cells": [
  {
   "cell_type": "markdown",
   "metadata": {},
   "source": [
    "# WeatherPy\n",
    "----\n",
    "\n",
    "#### Note\n",
    "* Instructions have been included for each segment. You do not have to follow them exactly, but they are included to help you think through the steps."
   ]
  },
  {
   "cell_type": "code",
   "execution_count": 3,
   "metadata": {
    "scrolled": true
   },
   "outputs": [],
   "source": [
    "# Dependencies and Setup\n",
    "import matplotlib.pyplot as plt\n",
    "import pandas as pd\n",
    "import numpy as np\n",
    "import requests\n",
    "import time\n",
    "from scipy import stats\n",
    "from pprint import pprint\n",
    "\n",
    "# Import API key\n",
    "from api_keys import weather_api_key\n",
    "\n",
    "# Incorporated citipy to determine city based on latitude and longitude\n",
    "from citipy import citipy\n",
    "\n",
    "# Output File (CSV)\n",
    "output_data_file = \"cities.csv\"\n",
    "\n",
    "# Range of latitudes and longitudes\n",
    "lat_range = (-90, 90)\n",
    "lng_range = (-180, 180)"
   ]
  },
  {
   "cell_type": "markdown",
   "metadata": {},
   "source": [
    "## Generate Cities List"
   ]
  },
  {
   "cell_type": "code",
   "execution_count": 5,
   "metadata": {},
   "outputs": [
    {
     "data": {
      "text/plain": [
       "623"
      ]
     },
     "execution_count": 5,
     "metadata": {},
     "output_type": "execute_result"
    }
   ],
   "source": [
    "# List for holding lat_lngs and cities\n",
    "lat_lngs = []\n",
    "cities = []\n",
    "\n",
    "# Create a set of random lat and lng combinations\n",
    "lats = np.random.uniform(lat_range[0], lat_range[1], size=1500)\n",
    "lngs = np.random.uniform(lng_range[0], lng_range[1], size=1500)\n",
    "lat_lngs = zip(lats, lngs)\n",
    "\n",
    "# Identify nearest city for each lat, lng combination\n",
    "for lat_lng in lat_lngs:\n",
    "    city = citipy.nearest_city(lat_lng[0], lat_lng[1]).city_name\n",
    "    \n",
    "    # If the city is unique, then add it to a our cities list\n",
    "    if city not in cities:\n",
    "        cities.append(city)\n",
    "\n",
    "# Print the city count to confirm sufficient count\n",
    "len(cities)"
   ]
  },
  {
   "cell_type": "markdown",
   "metadata": {},
   "source": [
    "### Perform API Calls\n",
    "* Perform a weather check on each city using a series of successive API calls.\n",
    "* Include a print log of each city as it'sbeing processed (with the city number and city name).\n"
   ]
  },
  {
   "cell_type": "code",
   "execution_count": 6,
   "metadata": {
    "scrolled": true
   },
   "outputs": [
    {
     "name": "stdout",
     "output_type": "stream",
     "text": [
      "Missing name data\n",
      "2: Port Alfred\n",
      "3: Chibombo\n",
      "4: Iqaluit\n",
      "Missing name data\n",
      "6: Rikitea\n",
      "7: Bam\n",
      "Missing name data\n",
      "9: Port Elizabeth\n",
      "10: Namikupa\n",
      "11: New Norfolk\n",
      "12: East London\n",
      "13: Castro\n",
      "14: Mandalgovi\n",
      "15: Tuktoyaktuk\n",
      "Missing name data\n",
      "17: Punta Arenas\n",
      "18: Nikolskoye\n",
      "19: Hong Kong\n",
      "20: Carlsbad\n",
      "Missing name data\n",
      "22: Butaritari\n",
      "23: Port Blair\n",
      "24: Vaini\n",
      "25: Yellowknife\n",
      "26: Puerto Ayora\n",
      "27: Busselton\n",
      "28: Pisco\n",
      "29: Albany\n",
      "30: Mar del Plata\n",
      "31: Avera\n",
      "32: Bluff\n",
      "33: Tasiilaq\n",
      "34: Suntar\n",
      "35: Beisfjord\n",
      "Missing name data\n",
      "37: Ciudad del Carmen\n",
      "38: Klaksvík\n",
      "39: Salinas\n",
      "40: Nizwá\n",
      "41: Iraquara\n",
      "42: Sarakhs\n",
      "43: Chokurdakh\n",
      "44: Adrar\n",
      "45: Hof\n",
      "46: Mataura\n",
      "47: Snihurivka\n",
      "48: Atuona\n",
      "49: Necochea\n",
      "50: Lorengau\n",
      "51: Dikson\n",
      "52: Pochutla\n",
      "53: Buala\n",
      "54: Maragheh\n",
      "55: Nome\n",
      "56: Zhezkazgan\n",
      "57: San Patricio\n",
      "58: Cape Town\n",
      "59: Haines Junction\n",
      "60: Havre-St-Pierre\n",
      "61: Ushuaia\n",
      "62: Hermanus\n",
      "63: Port Augusta\n",
      "64: Linxia Chengguanzhen\n",
      "65: Ancud\n",
      "66: Pemba\n",
      "67: Srednekolymsk\n",
      "68: Margate\n",
      "69: Kendari\n",
      "70: Acobamba\n",
      "71: Zorritos\n",
      "72: Salina\n",
      "73: Ansfelden\n",
      "74: Nantucket\n",
      "75: Altay\n",
      "76: Tiksi\n",
      "77: Kamenka\n",
      "Missing name data\n",
      "79: Dingle\n",
      "80: Gurupi\n",
      "Missing name data\n",
      "82: Avarua\n",
      "83: Bengkulu\n",
      "84: Kruisfontein\n",
      "85: Cherskiy\n",
      "86: Saint-Philippe\n",
      "87: Naze\n",
      "Missing name data\n",
      "89: Deputatsky\n",
      "90: Ahipara\n",
      "91: Nisibis\n",
      "92: Barrow\n",
      "93: Amazar\n",
      "Missing name data\n",
      "95: Tara\n",
      "Missing name data\n",
      "97: Wukari\n",
      "98: Airai\n",
      "99: Lodja\n",
      "100: Redlands\n",
      "Missing name data\n",
      "102: San Cristobal\n",
      "103: Garut\n",
      "104: Kapaa\n",
      "105: Hilo\n",
      "106: Suzun\n",
      "107: Leningradskiy\n",
      "108: Dhandhuka\n",
      "109: Provideniya\n",
      "110: Honggang\n",
      "111: Iralaya\n",
      "112: Isangel\n",
      "113: Coaldale\n",
      "114: Saint Paul Harbor\n",
      "115: Guilin\n",
      "116: Sabang\n",
      "Missing name data\n",
      "118: Constitución\n",
      "119: Emmett\n",
      "120: Saskylakh\n",
      "121: Husavik\n",
      "122: Suixi\n",
      "123: Kimbe\n",
      "124: Fortuna\n",
      "Missing name data\n",
      "126: Arraial do Cabo\n",
      "127: Sirte\n",
      "Missing name data\n",
      "129: Ilo\n",
      "130: Diego de Almagro\n",
      "131: Cairns\n",
      "132: Ust-Maya\n",
      "133: Petropavlovsk-Kamchatskiy\n",
      "134: Matamoros\n",
      "135: Alyangula\n",
      "136: Ribeira Grande\n",
      "137: Saldanha\n",
      "138: Vilyuysk\n",
      "139: Tucumcari\n",
      "140: Hithadhoo\n",
      "141: Leh\n",
      "142: Qaanaaq\n",
      "143: Ponta do Sol\n",
      "144: Jiayuguan City\n",
      "145: Tura\n",
      "146: Kaitangata\n",
      "Missing name data\n",
      "148: Lebu\n",
      "149: Coquimbo\n",
      "150: Sühbaatar\n",
      "151: Cabo San Lucas\n",
      "152: Upernavik\n",
      "153: Brockville\n",
      "154: Bredasdorp\n",
      "155: Kaura Namoda\n",
      "156: Calama\n",
      "157: Dāmghān\n",
      "158: Pangnirtung\n",
      "159: Huarmey\n",
      "Missing name data\n",
      "161: Esmeraldas\n",
      "162: Saint George\n",
      "163: Chapais\n",
      "Missing name data\n",
      "165: Sterling\n",
      "166: Roald\n",
      "167: Warmbad\n",
      "168: Berlevåg\n",
      "169: Sorong\n",
      "170: Launceston\n",
      "Missing name data\n",
      "172: Çumra\n",
      "173: Tuatapere\n",
      "174: Hobart\n",
      "175: Alofi\n",
      "Missing name data\n",
      "177: Vila Velha\n",
      "178: Ambulu\n",
      "179: Nishihara\n",
      "180: Mossamedes\n",
      "181: Bonavista\n",
      "182: São Filipe\n",
      "183: Agadez\n",
      "184: Boshnyakovo\n",
      "185: Te Anau\n",
      "186: Zhaodong\n",
      "187: Salalah\n",
      "188: Saint Anthony\n",
      "Missing name data\n",
      "190: Bethel\n",
      "191: Quatre Cocos\n",
      "192: Conceição do Araguaia\n",
      "193: Shingū\n",
      "194: Nelson Bay\n",
      "195: Redmond\n",
      "196: Grand Gaube\n",
      "Missing name data\n",
      "198: Kuvshinovo\n",
      "199: Honiara\n",
      "200: Pervomayskiy\n",
      "201: Lázaro Cárdenas\n",
      "202: Boyuibe\n",
      "203: Chālūs\n",
      "204: Bambous Virieux\n",
      "205: Teknāf\n",
      "206: Clyde River\n",
      "207: Laguna\n",
      "208: Maués\n",
      "209: Aklavik\n",
      "210: Iracoubo\n",
      "211: Buin\n",
      "212: Kamuli\n",
      "Missing name data\n",
      "214: Yulara\n",
      "215: Baringo\n",
      "216: Daye\n",
      "217: Esperance\n",
      "218: Erenhot\n",
      "219: Imeni Poliny Osipenko\n",
      "220: Carnarvon\n",
      "221: Ol'ga\n",
      "222: Ostrovnoy\n",
      "223: Ljungby\n",
      "224: Puerto Escondido\n",
      "225: Sompeta\n",
      "226: Novobirilyussy\n",
      "227: Sitka\n",
      "228: Câmara de Lobos\n",
      "229: Pangody\n",
      "230: Kyabé\n",
      "231: Rapid Valley\n",
      "232: Tomatlán\n",
      "233: Uyuni\n",
      "234: Pevek\n",
      "235: Kashgar\n",
      "236: Irondequoit\n",
      "237: Torbay\n",
      "238: Bajos de Haina\n",
      "239: Nekrasovskoye\n",
      "240: Padang\n",
      "241: Weligama\n",
      "242: Kawalu\n",
      "243: Nanortalik\n",
      "244: Birao\n",
      "245: Borovskoy\n",
      "246: Los Llanos de Aridane\n",
      "247: Makakilo City\n",
      "Missing name data\n",
      "249: Port Hawkesbury\n",
      "250: Açucena\n",
      "251: Nyurba\n",
      "252: Ndago\n",
      "253: Kloulklubed\n",
      "Missing name data\n",
      "255: Vila Franca do Campo\n",
      "256: Balkhash\n",
      "257: Cidreira\n",
      "Missing name data\n",
      "259: La Crosse\n",
      "260: Zyryanka\n",
      "261: Matagami\n",
      "262: Xining\n",
      "263: Kiryat Gat\n",
      "264: Havelock\n",
      "265: Port Lincoln\n",
      "266: Qaqortoq\n",
      "267: Quimper\n",
      "268: Tabou\n",
      "269: Bhādāsar\n",
      "270: Homer\n",
      "271: Katobu\n",
      "272: Dalby\n",
      "273: Great Falls\n",
      "274: Biltine\n",
      "275: Jamestown\n",
      "276: Malanje\n",
      "277: Dhidhdhoo\n",
      "Missing name data\n",
      "279: Flinders\n",
      "280: Yeppoon\n",
      "281: Mtwara\n",
      "282: Potiskum\n",
      "283: Bashtanka\n",
      "284: Caborca\n",
      "285: Duyun\n",
      "286: Abu Samrah\n",
      "287: Tanem\n",
      "288: Severodvinsk\n",
      "289: Yaring\n",
      "290: Khatanga\n",
      "291: Hay River\n",
      "292: Longhua\n",
      "293: Bilma\n",
      "294: Coremas\n",
      "295: Pemangkat\n",
      "296: Mount Kisco\n",
      "297: Thompson\n",
      "298: Sept-Îles\n",
      "299: Souillac\n",
      "300: Tallahassee\n",
      "301: Faya\n",
      "302: Coahuayana Viejo\n",
      "303: Punta de Bombón\n",
      "304: Diofior\n",
      "305: Korla\n",
      "306: Camopi\n",
      "307: Ust'-Ilimsk\n",
      "308: Katsuura\n",
      "309: Vao\n",
      "310: Tavricheskoye\n",
      "311: Palmares do Sul\n",
      "312: Pandan\n",
      "313: Sonāmura\n",
      "314: Kilindoni\n",
      "315: Soubre\n",
      "316: Coyhaique\n",
      "317: Geraldton\n",
      "318: George Town\n",
      "319: Sena Madureira\n",
      "Missing name data\n",
      "321: Leszno\n",
      "Missing name data\n",
      "323: Bilibino\n",
      "324: Tumbes\n",
      "325: Rovnoye\n",
      "326: Chropyně\n",
      "327: Maryville\n",
      "328: Marsá Maţrūḩ\n",
      "329: Ipixuna\n",
      "330: Yuancheng\n",
      "331: Guerrero Negro\n",
      "332: Kysyl-Syr\n",
      "333: Kinshasa\n",
      "Missing name data\n",
      "335: Ilulissat\n",
      "336: Bria\n",
      "337: Kutum\n",
      "338: Imbituba\n",
      "339: Bundaberg\n",
      "340: Bubaque\n",
      "341: Meulaboh\n",
      "342: Karatsu\n",
      "343: Khabary\n",
      "344: Salinópolis\n",
      "345: Jijila\n",
      "346: Mattru\n",
      "347: Chicla\n",
      "348: Barinas\n",
      "349: Lebedinyy\n",
      "350: Lompoc\n",
      "351: Chui\n",
      "352: Harindānga\n",
      "353: Talnakh\n",
      "354: Kavaratti\n",
      "355: Krasnoarmeysk\n",
      "356: Grindavik\n",
      "Missing name data\n",
      "358: Lamu\n",
      "359: Jiexiu\n",
      "360: Lahaina\n",
      "361: Poanas\n",
      "362: Anderson\n",
      "363: Mitsamiouli\n",
      "364: Riyadh\n",
      "Missing name data\n",
      "366: Xam Nua\n",
      "367: Kahului\n",
      "368: Cuauhtémoc\n",
      "369: Junction City\n",
      "370: Faanui\n",
      "371: Shelburne\n",
      "Missing name data\n",
      "373: Chaman\n",
      "374: Beaumont\n",
      "375: Pinega\n",
      "Missing name data\n",
      "377: Pitimbu\n",
      "378: Yar-Sale\n",
      "379: Goderich\n",
      "380: Coruripe\n",
      "381: Maniitsoq\n",
      "Missing name data\n",
      "383: Huambo\n",
      "384: Mokhsogollokh\n",
      "385: Mackay\n",
      "386: Nadvoitsy\n",
      "387: Humberto de Campos\n",
      "388: Lüderitz\n",
      "389: Ogbomosho\n",
      "390: Muisne\n",
      "391: Najrān\n",
      "Missing name data\n",
      "393: Okha\n",
      "394: San Rafael\n",
      "Missing name data\n",
      "396: Laas\n",
      "397: Khorramabad\n",
      "Missing name data\n",
      "399: Araouane\n",
      "400: Seoul\n",
      "401: Van\n",
      "402: Kavieng\n",
      "403: Yenagoa\n",
      "404: Grand Baie\n",
      "405: Qasigiannguit\n",
      "406: Carutapera\n",
      "407: Jacksonville Beach\n",
      "408: Hualmay\n",
      "409: Bundibugyo\n",
      "Missing name data\n",
      "Missing name data\n",
      "412: Jaguarari\n",
      "413: Beitbridge\n",
      "414: Yabrūd\n",
      "415: Winnemucca\n",
      "416: Arman'\n",
      "417: Kiama\n",
      "418: Karratha\n",
      "419: Hasaki\n",
      "420: Fort Nelson\n",
      "421: Codrington\n",
      "422: Sydney\n",
      "423: Makat\n",
      "424: Kununurra\n",
      "425: Ixtapa\n",
      "426: Nhulunbuy\n",
      "427: Turbat\n",
      "428: Brae\n",
      "429: Shakiso\n",
      "Missing name data\n",
      "431: Umluj\n",
      "432: Biała Podlaska\n",
      "433: Touros\n",
      "434: Aquin\n",
      "435: Oranjemund\n",
      "Missing name data\n",
      "437: Rāzole\n",
      "438: Moose Factory\n",
      "439: Likasi\n",
      "440: Taoudenni\n",
      "441: Sturgeon Bay\n",
      "442: Hobyo\n",
      "443: Rawson\n",
      "444: Synya\n",
      "Missing name data\n",
      "446: Eilat\n",
      "447: Dunedin\n",
      "448: Talcahuano\n",
      "Missing name data\n",
      "450: Ikungi\n",
      "451: Narsaq\n",
      "452: Casa Nova\n",
      "453: Lagoa\n",
      "454: Barcelos\n",
      "455: Rio Tuba\n",
      "456: Tecpan\n",
      "457: Vestmanna\n",
      "458: Magaria\n",
      "459: Wakkanai\n",
      "460: Severo-Kuril'sk\n",
      "Missing name data\n",
      "462: Kismayo\n",
      "463: Norman Wells\n",
      "464: Kautokeino\n",
      "465: Hurghada\n",
      "466: Koumac\n",
      "467: Sinegorskiy\n",
      "468: Mount Isa\n",
      "469: Yangi Marg`ilon\n",
      "470: San Policarpo\n",
      "471: Takoradze\n",
      "472: Gizo Government Station\n",
      "473: Krasnokamensk\n",
      "474: Aba\n",
      "475: Am Timan\n",
      "476: Marolambo\n",
      "477: Muros\n",
      "478: Mathbaria\n",
      "479: Iguape\n",
      "Missing name data\n",
      "481: Atar\n",
      "482: Afzalpur\n",
      "483: Örnsköldsvik\n",
      "484: Huilong\n",
      "485: Vostok\n",
      "486: Yantal'\n",
      "487: Campbellsville\n",
      "488: Nizhniye Vyazovyye\n",
      "489: Balabac\n",
      "490: Enshi\n",
      "491: São Félix do Xingu\n",
      "492: Mahébourg\n",
      "493: North Bend\n",
      "494: Saiha\n",
      "495: Kroya\n",
      "496: Worland\n",
      "497: Assiut\n",
      "498: Arrondissement de Rennes\n",
      "499: Monterey\n",
      "500: Hansot\n",
      "501: Westport\n",
      "502: Vardø\n",
      "503: Bentiu\n",
      "504: Tombouctou\n",
      "505: Nuuk\n",
      "506: Carballo\n",
      "507: Caohe\n",
      "508: Alim\n",
      "509: Doha\n",
      "510: Ust'-Koksa\n",
      "511: Oruzgan\n",
      "512: Iki-Burul\n",
      "513: Challapata\n",
      "514: Kemijärvi\n",
      "515: Bonnyville\n",
      "516: Zhangye\n",
      "517: Chara\n",
      "518: Esfarāyen\n",
      "519: Horodyshche\n",
      "520: Inírida\n",
      "521: Madison\n",
      "522: Gari\n",
      "Missing name data\n",
      "524: Gorontalo\n",
      "525: Mahon\n",
      "526: Ayaviri\n",
      "527: Kadoma\n",
      "528: Conceição do Castelo\n",
      "529: Ylivieska\n",
      "530: Changji\n",
      "531: Rabo de Peixe\n",
      "532: Sinnamary\n",
      "533: Salto\n",
      "534: Kristinehamn\n",
      "535: Beringovskiy\n",
      "536: Guasdualito\n",
      "537: Abancay\n",
      "538: Kāvali\n",
      "539: Bandarbeyla\n",
      "540: Trelew\n",
      "541: Salta\n",
      "542: Banda Aceh\n",
      "543: Matara\n",
      "544: Santa Maria\n",
      "545: Ulladulla\n",
      "546: Freeport\n",
      "547: Egvekinot\n",
      "548: Klenovyy\n",
      "549: Kabo\n",
      "550: Tocopilla\n",
      "551: Dukat\n",
      "552: Moussoro\n",
      "553: Santa Cruz de La Palma\n",
      "554: Luoyang\n",
      "555: Macapá\n",
      "556: Ténenkou\n",
      "557: Half Moon Bay\n",
      "558: Zhangjiakou\n",
      "559: Tessalit\n",
      "560: Ouésso\n",
      "561: Asău\n",
      "562: Boa Esperança do Sul\n"
     ]
    },
    {
     "name": "stdout",
     "output_type": "stream",
     "text": [
      "563: Panabá\n",
      "564: Ondjiva\n",
      "Missing name data\n",
      "566: Baijiantan\n",
      "567: Ust-Nera\n",
      "568: Esim\n",
      "569: Neiafu\n",
      "570: Wanning\n",
      "571: Yibin\n",
      "572: Rakai\n",
      "573: Kupang\n",
      "574: Pocatello\n",
      "575: Oriximiná\n",
      "576: Jiaojiang\n",
      "577: Lazurne\n",
      "578: Valparaíso\n",
      "Missing name data\n",
      "580: Xichang\n",
      "581: Ovsyanka\n",
      "582: Švenčionys\n",
      "583: Tahara\n",
      "584: Japura\n",
      "Missing name data\n",
      "Missing name data\n",
      "587: Tayu\n",
      "588: Dzhebariki-Khaya\n",
      "589: Bermeo\n",
      "590: Balkanabat\n",
      "591: Baykit\n",
      "592: Magistral'nyy\n",
      "593: Richards Bay\n",
      "594: Concarneau\n",
      "595: Domingos Martins\n",
      "596: São João da Barra\n",
      "Missing name data\n",
      "598: Zelenoborsk\n",
      "599: Jarwal\n",
      "600: Mount Gambier\n",
      "601: Tsiroanomandidy\n",
      "602: Menongue\n",
      "603: Plettenberg Bay\n",
      "604: Arlit\n",
      "605: Mayumba\n",
      "606: Upington\n",
      "607: Praia\n",
      "608: Grand-Lahou\n",
      "609: Antofagasta\n",
      "Missing name data\n",
      "611: Marawi\n",
      "612: Bodden Town\n",
      "613: Viranşehir\n",
      "614: La Ronge\n",
      "615: Amahai\n",
      "616: Soeng Sang\n",
      "617: Yaan\n",
      "618: Alta Floresta\n",
      "619: Tahoua\n",
      "620: Joshīmath\n",
      "621: Wamba\n",
      "622: Cienfuegos\n",
      "623: West Freehold\n"
     ]
    }
   ],
   "source": [
    "url = \"http://api.openweathermap.org/data/2.5/weather?\"\n",
    "number= 0\n",
    "\n",
    "name=[]\n",
    "country=[]\n",
    "lat=[]\n",
    "lon=[]\n",
    "temp=[]\n",
    "max_temp=[]\n",
    "wind_spd=[]\n",
    "clouds=[]\n",
    "humidity=[]\n",
    "\n",
    "for city in cities:\n",
    "    query_url = url + \"appid=\" + weather_api_key + \"&units=imperial&q=\" + city\n",
    "\n",
    "    weather_response = requests.get(query_url)\n",
    "    weather_json = weather_response.json()\n",
    "    \n",
    "    number=number+1\n",
    "\n",
    "    try:\n",
    "        print(f\"{number}: {weather_json['name']}\")\n",
    "        name.append(weather_json['name'])\n",
    "        country.append(weather_json['sys']['country'])\n",
    "        lat.append(weather_json['coord']['lat'])\n",
    "        lon.append(weather_json['coord']['lon'])\n",
    "        temp.append(weather_json['main']['temp'])\n",
    "        max_temp.append(weather_json['main']['temp_max'])\n",
    "        wind_spd.append(weather_json['wind']['speed'])\n",
    "        clouds.append(weather_json['clouds']['all'])\n",
    "        humidity.append(weather_json['main']['humidity'])\n",
    "    except:\n",
    "        print(\"Missing name data\")\n",
    "        name.append(\"Missing data\")\n",
    "        country.append(\"Missing data\")\n",
    "        lat.append(\"Missing data\")\n",
    "        lon.append(\"Missing data\")\n",
    "        temp.append(\"Missing data\")\n",
    "        max_temp.append(\"Missing data\")\n",
    "        wind_spd.append(\"Missing data\")\n",
    "        clouds.append(\"Missing data\")\n",
    "        humidity.append(\"Missing data\")"
   ]
  },
  {
   "cell_type": "code",
   "execution_count": 7,
   "metadata": {},
   "outputs": [
    {
     "name": "stdout",
     "output_type": "stream",
     "text": [
      "{'base': 'stations',\n",
      " 'clouds': {'all': 1},\n",
      " 'cod': 200,\n",
      " 'coord': {'lat': 40.2421, 'lon': -74.3013},\n",
      " 'dt': 1629059701,\n",
      " 'id': 5106262,\n",
      " 'main': {'feels_like': 82.35,\n",
      "          'humidity': 46,\n",
      "          'pressure': 1021,\n",
      "          'temp': 82.15,\n",
      "          'temp_max': 87.66,\n",
      "          'temp_min': 77.43},\n",
      " 'name': 'West Freehold',\n",
      " 'sys': {'country': 'US',\n",
      "         'id': 2008337,\n",
      "         'sunrise': 1629022123,\n",
      "         'sunset': 1629071688,\n",
      "         'type': 2},\n",
      " 'timezone': -14400,\n",
      " 'visibility': 10000,\n",
      " 'weather': [{'description': 'clear sky',\n",
      "              'icon': '01d',\n",
      "              'id': 800,\n",
      "              'main': 'Clear'}],\n",
      " 'wind': {'deg': 45, 'gust': 4, 'speed': 1.01}}\n"
     ]
    }
   ],
   "source": [
    "pprint(weather_json)"
   ]
  },
  {
   "cell_type": "markdown",
   "metadata": {},
   "source": [
    "  ### Convert Raw Data to DataFrame\n",
    "* Export the city data into a .csv.\n",
    "* Display the DataFrame"
   ]
  },
  {
   "cell_type": "code",
   "execution_count": 8,
   "metadata": {},
   "outputs": [
    {
     "data": {
      "text/html": [
       "<div>\n",
       "<style scoped>\n",
       "    .dataframe tbody tr th:only-of-type {\n",
       "        vertical-align: middle;\n",
       "    }\n",
       "\n",
       "    .dataframe tbody tr th {\n",
       "        vertical-align: top;\n",
       "    }\n",
       "\n",
       "    .dataframe thead th {\n",
       "        text-align: right;\n",
       "    }\n",
       "</style>\n",
       "<table border=\"1\" class=\"dataframe\">\n",
       "  <thead>\n",
       "    <tr style=\"text-align: right;\">\n",
       "      <th></th>\n",
       "      <th>city</th>\n",
       "      <th>country</th>\n",
       "      <th>latitude</th>\n",
       "      <th>longitude</th>\n",
       "      <th>temperature</th>\n",
       "      <th>max temperature</th>\n",
       "      <th>wind speed</th>\n",
       "      <th>cloudiness</th>\n",
       "      <th>humidity</th>\n",
       "    </tr>\n",
       "  </thead>\n",
       "  <tbody>\n",
       "    <tr>\n",
       "      <th>0</th>\n",
       "      <td>Missing data</td>\n",
       "      <td>Missing data</td>\n",
       "      <td>Missing data</td>\n",
       "      <td>Missing data</td>\n",
       "      <td>Missing data</td>\n",
       "      <td>Missing data</td>\n",
       "      <td>Missing data</td>\n",
       "      <td>Missing data</td>\n",
       "      <td>Missing data</td>\n",
       "    </tr>\n",
       "    <tr>\n",
       "      <th>1</th>\n",
       "      <td>Port Alfred</td>\n",
       "      <td>ZA</td>\n",
       "      <td>-33.5906</td>\n",
       "      <td>26.891</td>\n",
       "      <td>59.5</td>\n",
       "      <td>59.5</td>\n",
       "      <td>13.11</td>\n",
       "      <td>0</td>\n",
       "      <td>75</td>\n",
       "    </tr>\n",
       "    <tr>\n",
       "      <th>2</th>\n",
       "      <td>Chibombo</td>\n",
       "      <td>ZM</td>\n",
       "      <td>-14.6569</td>\n",
       "      <td>28.0706</td>\n",
       "      <td>60.66</td>\n",
       "      <td>60.66</td>\n",
       "      <td>9.37</td>\n",
       "      <td>0</td>\n",
       "      <td>66</td>\n",
       "    </tr>\n",
       "    <tr>\n",
       "      <th>3</th>\n",
       "      <td>Iqaluit</td>\n",
       "      <td>CA</td>\n",
       "      <td>63.7506</td>\n",
       "      <td>-68.5145</td>\n",
       "      <td>46.13</td>\n",
       "      <td>46.13</td>\n",
       "      <td>4.61</td>\n",
       "      <td>90</td>\n",
       "      <td>87</td>\n",
       "    </tr>\n",
       "    <tr>\n",
       "      <th>4</th>\n",
       "      <td>Missing data</td>\n",
       "      <td>Missing data</td>\n",
       "      <td>Missing data</td>\n",
       "      <td>Missing data</td>\n",
       "      <td>Missing data</td>\n",
       "      <td>Missing data</td>\n",
       "      <td>Missing data</td>\n",
       "      <td>Missing data</td>\n",
       "      <td>Missing data</td>\n",
       "    </tr>\n",
       "  </tbody>\n",
       "</table>\n",
       "</div>"
      ],
      "text/plain": [
       "           city       country      latitude     longitude   temperature  \\\n",
       "0  Missing data  Missing data  Missing data  Missing data  Missing data   \n",
       "1   Port Alfred            ZA      -33.5906        26.891          59.5   \n",
       "2      Chibombo            ZM      -14.6569       28.0706         60.66   \n",
       "3       Iqaluit            CA       63.7506      -68.5145         46.13   \n",
       "4  Missing data  Missing data  Missing data  Missing data  Missing data   \n",
       "\n",
       "  max temperature    wind speed    cloudiness      humidity  \n",
       "0    Missing data  Missing data  Missing data  Missing data  \n",
       "1            59.5         13.11             0            75  \n",
       "2           60.66          9.37             0            66  \n",
       "3           46.13          4.61            90            87  \n",
       "4    Missing data  Missing data  Missing data  Missing data  "
      ]
     },
     "execution_count": 8,
     "metadata": {},
     "output_type": "execute_result"
    }
   ],
   "source": [
    "city_dict = {\n",
    "    'city': name,\n",
    "    'country':country,\n",
    "    'latitude':lat,\n",
    "    'longitude':lon,\n",
    "    'temperature':temp,\n",
    "    'max temperature':max_temp,\n",
    "    'wind speed':wind_spd,\n",
    "    'cloudiness':clouds,\n",
    "    'humidity':humidity\n",
    "}\n",
    "\n",
    "original_city_df = pd.DataFrame(city_dict)\n",
    "original_city_df.head()"
   ]
  },
  {
   "cell_type": "code",
   "execution_count": 9,
   "metadata": {},
   "outputs": [
    {
     "data": {
      "text/plain": [
       "city               570\n",
       "country            570\n",
       "latitude           570\n",
       "longitude          570\n",
       "temperature        570\n",
       "max temperature    570\n",
       "wind speed         570\n",
       "cloudiness         570\n",
       "humidity           570\n",
       "dtype: int64"
      ]
     },
     "execution_count": 9,
     "metadata": {},
     "output_type": "execute_result"
    }
   ],
   "source": [
    "city_df = original_city_df.loc[original_city_df['latitude'] != 'Missing data']\n",
    "city_df.count()"
   ]
  },
  {
   "cell_type": "code",
   "execution_count": 10,
   "metadata": {},
   "outputs": [],
   "source": [
    "city_df.to_csv('../cities.csv')"
   ]
  },
  {
   "cell_type": "markdown",
   "metadata": {},
   "source": [
    "## Inspect the data and remove the cities where the humidity > 100%.\n",
    "----\n",
    "Skip this step if there are no cities that have humidity > 100%. "
   ]
  },
  {
   "cell_type": "code",
   "execution_count": 11,
   "metadata": {},
   "outputs": [
    {
     "data": {
      "text/plain": [
       "city               0\n",
       "country            0\n",
       "latitude           0\n",
       "longitude          0\n",
       "temperature        0\n",
       "max temperature    0\n",
       "wind speed         0\n",
       "cloudiness         0\n",
       "humidity           0\n",
       "dtype: int64"
      ]
     },
     "execution_count": 11,
     "metadata": {},
     "output_type": "execute_result"
    }
   ],
   "source": [
    "humid = city_df.loc[city_df['humidity'] > 100]\n",
    "humid.count()"
   ]
  },
  {
   "cell_type": "code",
   "execution_count": 12,
   "metadata": {},
   "outputs": [],
   "source": [
    "#  Get the indices of cities that have humidity over 100%.\n"
   ]
  },
  {
   "cell_type": "code",
   "execution_count": 13,
   "metadata": {},
   "outputs": [],
   "source": [
    "# Make a new DataFrame equal to the city data to drop all humidity outliers by index.\n",
    "# Passing \"inplace=False\" will make a copy of the city_data DataFrame, which we call \"clean_city_data\".\n"
   ]
  },
  {
   "cell_type": "code",
   "execution_count": 14,
   "metadata": {},
   "outputs": [
    {
     "name": "stderr",
     "output_type": "stream",
     "text": [
      "<ipython-input-14-8720d668a0fb>:1: SettingWithCopyWarning: \n",
      "A value is trying to be set on a copy of a slice from a DataFrame.\n",
      "Try using .loc[row_indexer,col_indexer] = value instead\n",
      "\n",
      "See the caveats in the documentation: https://pandas.pydata.org/pandas-docs/stable/user_guide/indexing.html#returning-a-view-versus-a-copy\n",
      "  city_df['latitude']=city_df['latitude'].astype(float)\n",
      "<ipython-input-14-8720d668a0fb>:2: SettingWithCopyWarning: \n",
      "A value is trying to be set on a copy of a slice from a DataFrame.\n",
      "Try using .loc[row_indexer,col_indexer] = value instead\n",
      "\n",
      "See the caveats in the documentation: https://pandas.pydata.org/pandas-docs/stable/user_guide/indexing.html#returning-a-view-versus-a-copy\n",
      "  city_df['longitude']=city_df['longitude'].astype(float)\n",
      "<ipython-input-14-8720d668a0fb>:3: SettingWithCopyWarning: \n",
      "A value is trying to be set on a copy of a slice from a DataFrame.\n",
      "Try using .loc[row_indexer,col_indexer] = value instead\n",
      "\n",
      "See the caveats in the documentation: https://pandas.pydata.org/pandas-docs/stable/user_guide/indexing.html#returning-a-view-versus-a-copy\n",
      "  city_df['temperature']=city_df['temperature'].astype(float)\n",
      "<ipython-input-14-8720d668a0fb>:4: SettingWithCopyWarning: \n",
      "A value is trying to be set on a copy of a slice from a DataFrame.\n",
      "Try using .loc[row_indexer,col_indexer] = value instead\n",
      "\n",
      "See the caveats in the documentation: https://pandas.pydata.org/pandas-docs/stable/user_guide/indexing.html#returning-a-view-versus-a-copy\n",
      "  city_df['max temperature']=city_df['max temperature'].astype(float)\n",
      "<ipython-input-14-8720d668a0fb>:5: SettingWithCopyWarning: \n",
      "A value is trying to be set on a copy of a slice from a DataFrame.\n",
      "Try using .loc[row_indexer,col_indexer] = value instead\n",
      "\n",
      "See the caveats in the documentation: https://pandas.pydata.org/pandas-docs/stable/user_guide/indexing.html#returning-a-view-versus-a-copy\n",
      "  city_df['wind speed']=city_df['wind speed'].astype(float)\n",
      "<ipython-input-14-8720d668a0fb>:6: SettingWithCopyWarning: \n",
      "A value is trying to be set on a copy of a slice from a DataFrame.\n",
      "Try using .loc[row_indexer,col_indexer] = value instead\n",
      "\n",
      "See the caveats in the documentation: https://pandas.pydata.org/pandas-docs/stable/user_guide/indexing.html#returning-a-view-versus-a-copy\n",
      "  city_df['cloudiness']=city_df['cloudiness'].astype(float)\n",
      "<ipython-input-14-8720d668a0fb>:7: SettingWithCopyWarning: \n",
      "A value is trying to be set on a copy of a slice from a DataFrame.\n",
      "Try using .loc[row_indexer,col_indexer] = value instead\n",
      "\n",
      "See the caveats in the documentation: https://pandas.pydata.org/pandas-docs/stable/user_guide/indexing.html#returning-a-view-versus-a-copy\n",
      "  city_df['humidity']=city_df['humidity'].astype(float)\n"
     ]
    },
    {
     "data": {
      "text/plain": [
       "city                object\n",
       "country             object\n",
       "latitude           float64\n",
       "longitude          float64\n",
       "temperature        float64\n",
       "max temperature    float64\n",
       "wind speed         float64\n",
       "cloudiness         float64\n",
       "humidity           float64\n",
       "dtype: object"
      ]
     },
     "execution_count": 14,
     "metadata": {},
     "output_type": "execute_result"
    }
   ],
   "source": [
    "city_df['latitude']=city_df['latitude'].astype(float)\n",
    "city_df['longitude']=city_df['longitude'].astype(float)\n",
    "city_df['temperature']=city_df['temperature'].astype(float)\n",
    "city_df['max temperature']=city_df['max temperature'].astype(float)\n",
    "city_df['wind speed']=city_df['wind speed'].astype(float)\n",
    "city_df['cloudiness']=city_df['cloudiness'].astype(float)\n",
    "city_df['humidity']=city_df['humidity'].astype(float)\n",
    "\n",
    "city_df.dtypes"
   ]
  },
  {
   "cell_type": "markdown",
   "metadata": {},
   "source": [
    "## Plotting the Data\n",
    "* Use proper labeling of the plots using plot titles (including date of analysis) and axes labels.\n",
    "* Save the plotted figures as .pngs."
   ]
  },
  {
   "cell_type": "markdown",
   "metadata": {},
   "source": [
    "## Latitude vs. Temperature Plot"
   ]
  },
  {
   "cell_type": "code",
   "execution_count": 15,
   "metadata": {},
   "outputs": [],
   "source": [
    "city_lat = city_df['latitude']\n",
    "city_temp = city_df['temperature']\n",
    "city_humidity = city_df['humidity']\n",
    "city_cloud = city_df['cloudiness']\n",
    "city_wind =city_df['wind speed']"
   ]
  },
  {
   "cell_type": "code",
   "execution_count": 16,
   "metadata": {
    "scrolled": true
   },
   "outputs": [
    {
     "data": {
      "image/png": "[encoded data removed]",
      "text/plain": [
       "<Figure size 432x288 with 1 Axes>"
      ]
     },
     "metadata": {
      "needs_background": "light"
     },
     "output_type": "display_data"
    }
   ],
   "source": [
    "plt.scatter(city_lat,city_temp)\n",
    "\n",
    "plt.title(\"City Latitude vs Temperature\")\n",
    "plt.ylabel(\"Temperature (F)\")\n",
    "plt.xlabel(\"Latitude\")\n",
    "\n",
    "plt.savefig(\"latVtemp.png\")\n",
    "plt.show()"
   ]
  },
  {
   "cell_type": "markdown",
   "metadata": {},
   "source": [
    "## Latitude vs. Humidity Plot"
   ]
  },
  {
   "cell_type": "code",
   "execution_count": 17,
   "metadata": {},
   "outputs": [
    {
     "data": {
      "image/png": "[encoded data removed]",
      "text/plain": [
       "<Figure size 432x288 with 1 Axes>"
      ]
     },
     "metadata": {
      "needs_background": "light"
     },
     "output_type": "display_data"
    }
   ],
   "source": [
    "plt.scatter(city_lat,city_humidity)\n",
    "\n",
    "plt.title(\"City Latitude vs Humidity\")\n",
    "plt.ylabel(\"Humidity (%)\")\n",
    "plt.xlabel(\"Latitude\")\n",
    "\n",
    "plt.savefig(\"latVhumidity.png\")\n",
    "plt.show()"
   ]
  },
  {
   "cell_type": "markdown",
   "metadata": {},
   "source": [
    "## Latitude vs. Cloudiness Plot"
   ]
  },
  {
   "cell_type": "code",
   "execution_count": 18,
   "metadata": {},
   "outputs": [
    {
     "data": {
      "image/png": "[encoded data removed]",
      "text/plain": [
       "<Figure size 432x288 with 1 Axes>"
      ]
     },
     "metadata": {
      "needs_background": "light"
     },
     "output_type": "display_data"
    }
   ],
   "source": [
    "plt.scatter(city_lat,city_cloud)\n",
    "\n",
    "plt.title(\"City Latitude vs Cloudiness\")\n",
    "plt.ylabel(\"Cloudiness (%)\")\n",
    "plt.xlabel(\"Latitude\")\n",
    "\n",
    "plt.savefig(\"latVclouds.png\")\n",
    "plt.show()"
   ]
  },
  {
   "cell_type": "markdown",
   "metadata": {},
   "source": [
    "## Latitude vs. Wind Speed Plot"
   ]
  },
  {
   "cell_type": "code",
   "execution_count": 19,
   "metadata": {},
   "outputs": [
    {
     "data": {
      "image/png": "[encoded data removed]",
      "text/plain": [
       "<Figure size 432x288 with 1 Axes>"
      ]
     },
     "metadata": {
      "needs_background": "light"
     },
     "output_type": "display_data"
    }
   ],
   "source": [
    "plt.scatter(city_lat,city_wind)\n",
    "\n",
    "plt.title(\"City Latitude vs Wind Speed\")\n",
    "plt.ylabel(\"Wind Speed(mph)\")\n",
    "plt.xlabel(\"Latitude\")\n",
    "\n",
    "plt.savefig(\"charts/latVwind.png\")\n",
    "plt.show()"
   ]
  },
  {
   "cell_type": "markdown",
   "metadata": {},
   "source": [
    "## Linear Regression"
   ]
  },
  {
   "cell_type": "code",
   "execution_count": 20,
   "metadata": {},
   "outputs": [],
   "source": [
    "north = city_df.loc[city_df['latitude'] >= 0]\n",
    "south = city_df.loc[city_df['latitude'] < 0]\n",
    "north_lat = north['latitude']\n",
    "north_temp = north['max temperature']\n",
    "north_hum = north['humidity']\n",
    "north_wind = north['wind speed']\n",
    "north_cloud =north['cloudiness']\n",
    "\n",
    "south_lat = south['latitude']\n",
    "south_temp = south['max temperature']\n",
    "south_hum = south['humidity']\n",
    "south_wind = south['wind speed']\n",
    "south_cloud =south['cloudiness']"
   ]
  },
  {
   "cell_type": "markdown",
   "metadata": {},
   "source": [
    "####  Northern Hemisphere - Max Temp vs. Latitude Linear Regression"
   ]
  },
  {
   "cell_type": "code",
   "execution_count": 21,
   "metadata": {},
   "outputs": [
    {
     "name": "stdout",
     "output_type": "stream",
     "text": [
      "The r-value is: 0.43115264850818247\n"
     ]
    },
    {
     "data": {
      "image/png": "[encoded data removed]",
      "text/plain": [
       "<Figure size 432x288 with 1 Axes>"
      ]
     },
     "metadata": {
      "needs_background": "light"
     },
     "output_type": "display_data"
    }
   ],
   "source": [
    "(slope, intercept, rvalue, pvalue, stderr) = stats.linregress(north_lat, north_temp)\n",
    "regress_values = north_lat * slope + intercept\n",
    "line_eq = \"y = \" + str(round(slope,2)) + \"x +\" + str(round(intercept,2))\n",
    "\n",
    "plt.scatter(north_lat, north_temp)\n",
    "plt.plot(north_lat,regress_values,\"r-\")\n",
    "\n",
    "plt.xlabel('Latitude')\n",
    "plt.ylabel('Max Temperature')\n",
    "plt.annotate(line_eq,(20,15),fontsize=15,color=\"red\")\n",
    "\n",
    "print(f\"The r-value is: {rvalue**2}\")\n",
    "plt.savefig(\"charts/north_tempVlat.png\")\n",
    "plt.show()"
   ]
  },
  {
   "cell_type": "markdown",
   "metadata": {},
   "source": [
    "####  Southern Hemisphere - Max Temp vs. Latitude Linear Regression"
   ]
  },
  {
   "cell_type": "code",
   "execution_count": 22,
   "metadata": {},
   "outputs": [
    {
     "name": "stdout",
     "output_type": "stream",
     "text": [
      "The r-value is: 0.5774803037096476\n"
     ]
    },
    {
     "data": {
      "image/png": "[encoded data removed]",
      "text/plain": [
       "<Figure size 432x288 with 1 Axes>"
      ]
     },
     "metadata": {
      "needs_background": "light"
     },
     "output_type": "display_data"
    }
   ],
   "source": [
    "(slope, intercept, rvalue, pvalue, stderr) = stats.linregress(south_lat, south_temp)\n",
    "regress_values = south_lat * slope + intercept\n",
    "line_eq = \"y = \" + str(round(slope,2)) + \"x +\" + str(round(intercept,2))\n",
    "\n",
    "plt.scatter(south_lat, south_temp)\n",
    "plt.plot(south_lat,regress_values,\"r-\")\n",
    "\n",
    "plt.xlabel('Latitude')\n",
    "plt.ylabel('Max Temperature')\n",
    "plt.annotate(line_eq,(20,15),fontsize=15,color=\"red\")\n",
    "\n",
    "print(f\"The r-value is: {rvalue**2}\")\n",
    "plt.savefig(\"charts/south_tempVlat.png\")\n",
    "plt.show()"
   ]
  },
  {
   "cell_type": "markdown",
   "metadata": {},
   "source": [
    "####  Northern Hemisphere - Humidity (%) vs. Latitude Linear Regression"
   ]
  },
  {
   "cell_type": "code",
   "execution_count": 23,
   "metadata": {},
   "outputs": [
    {
     "name": "stdout",
     "output_type": "stream",
     "text": [
      "The r-value is: 0.002346024427678602\n"
     ]
    },
    {
     "data": {
      "image/png": "[encoded data removed]",
      "text/plain": [
       "<Figure size 432x288 with 1 Axes>"
      ]
     },
     "metadata": {
      "needs_background": "light"
     },
     "output_type": "display_data"
    }
   ],
   "source": [
    "(slope, intercept, rvalue, pvalue, stderr) = stats.linregress(north_lat, north_hum)\n",
    "regress_values = north_lat * slope + intercept\n",
    "line_eq = \"y = \" + str(round(slope,2)) + \"x +\" + str(round(intercept,2))\n",
    "\n",
    "plt.scatter(north_lat, north_hum)\n",
    "plt.plot(north_lat,regress_values,\"r-\")\n",
    "\n",
    "plt.xlabel('Latitude')\n",
    "plt.ylabel('Humidity (%)')\n",
    "plt.annotate(line_eq,(20,15),fontsize=15,color=\"red\")\n",
    "\n",
    "print(f\"The r-value is: {rvalue**2}\")\n",
    "plt.savefig(\"charts/north_humidityVlat.png\")\n",
    "plt.show()"
   ]
  },
  {
   "cell_type": "markdown",
   "metadata": {},
   "source": [
    "####  Southern Hemisphere - Humidity (%) vs. Latitude Linear Regression"
   ]
  },
  {
   "cell_type": "code",
   "execution_count": 24,
   "metadata": {},
   "outputs": [
    {
     "name": "stdout",
     "output_type": "stream",
     "text": [
      "The r-value is: 0.0013762625993870004\n"
     ]
    },
    {
     "data": {
      "image/png": "[encoded data removed]",
      "text/plain": [
       "<Figure size 432x288 with 1 Axes>"
      ]
     },
     "metadata": {
      "needs_background": "light"
     },
     "output_type": "display_data"
    }
   ],
   "source": [
    "(slope, intercept, rvalue, pvalue, stderr) = stats.linregress(south_lat, south_hum)\n",
    "regress_values = south_lat * slope + intercept\n",
    "line_eq = \"y = \" + str(round(slope,2)) + \"x +\" + str(round(intercept,2))\n",
    "\n",
    "plt.scatter(south_lat, south_hum)\n",
    "plt.plot(south_lat,regress_values,\"r-\")\n",
    "\n",
    "plt.xlabel('Latitude')\n",
    "plt.ylabel('Humidity (%)')\n",
    "plt.annotate(line_eq,(20,15),fontsize=15,color=\"red\")\n",
    "\n",
    "print(f\"The r-value is: {rvalue**2}\")\n",
    "plt.savefig(\"charts/south_humidityVlat.png\")\n",
    "plt.show()"
   ]
  },
  {
   "cell_type": "markdown",
   "metadata": {},
   "source": [
    "####  Northern Hemisphere - Cloudiness (%) vs. Latitude Linear Regression"
   ]
  },
  {
   "cell_type": "code",
   "execution_count": 25,
   "metadata": {},
   "outputs": [
    {
     "name": "stdout",
     "output_type": "stream",
     "text": [
      "The r-value is: 0.00012119274585047002\n"
     ]
    },
    {
     "data": {
      "image/png": "[encoded data removed]",
      "text/plain": [
       "<Figure size 432x288 with 1 Axes>"
      ]
     },
     "metadata": {
      "needs_background": "light"
     },
     "output_type": "display_data"
    }
   ],
   "source": [
    "(slope, intercept, rvalue, pvalue, stderr) = stats.linregress(north_lat, north_cloud)\n",
    "regress_values = north_lat * slope + intercept\n",
    "line_eq = \"y = \" + str(round(slope,2)) + \"x +\" + str(round(intercept,2))\n",
    "\n",
    "plt.scatter(north_lat, north_cloud)\n",
    "plt.plot(north_lat,regress_values,\"r-\")\n",
    "\n",
    "plt.xlabel('Latitude')\n",
    "plt.ylabel('Cloudiness (%)')\n",
    "plt.annotate(line_eq,(20,15),fontsize=15,color=\"red\")\n",
    "\n",
    "print(f\"The r-value is: {rvalue**2}\")\n",
    "plt.savefig(\"charts/north_cloudVlat.png\")\n",
    "plt.show()"
   ]
  },
  {
   "cell_type": "markdown",
   "metadata": {},
   "source": [
    "####  Southern Hemisphere - Cloudiness (%) vs. Latitude Linear Regression"
   ]
  },
  {
   "cell_type": "code",
   "execution_count": 26,
   "metadata": {},
   "outputs": [
    {
     "name": "stdout",
     "output_type": "stream",
     "text": [
      "The r-value is: 1.6781977696753957e-07\n"
     ]
    },
    {
     "data": {
      "image/png": "[encoded data removed]",
      "text/plain": [
       "<Figure size 432x288 with 1 Axes>"
      ]
     },
     "metadata": {
      "needs_background": "light"
     },
     "output_type": "display_data"
    }
   ],
   "source": [
    "(slope, intercept, rvalue, pvalue, stderr) = stats.linregress(south_lat, south_cloud)\n",
    "regress_values = south_lat * slope + intercept\n",
    "line_eq = \"y = \" + str(round(slope,2)) + \"x +\" + str(round(intercept,2))\n",
    "\n",
    "plt.scatter(south_lat, south_cloud)\n",
    "plt.plot(south_lat,regress_values,\"r-\")\n",
    "\n",
    "plt.xlabel('Latitude')\n",
    "plt.ylabel('Cloudiness (%)')\n",
    "plt.annotate(line_eq,(20,15),fontsize=15,color=\"red\")\n",
    "\n",
    "print(f\"The r-value is: {rvalue**2}\")\n",
    "plt.savefig(\"charts/south_cloudVlat.png\")\n",
    "plt.show()"
   ]
  },
  {
   "cell_type": "markdown",
   "metadata": {},
   "source": [
    "####  Northern Hemisphere - Wind Speed (mph) vs. Latitude Linear Regression"
   ]
  },
  {
   "cell_type": "code",
   "execution_count": 27,
   "metadata": {},
   "outputs": [
    {
     "name": "stdout",
     "output_type": "stream",
     "text": [
      "The r-value is: 0.0009998672017791325\n"
     ]
    },
    {
     "data": {
      "image/png": "[encoded data removed]",
      "text/plain": [
       "<Figure size 432x288 with 1 Axes>"
      ]
     },
     "metadata": {
      "needs_background": "light"
     },
     "output_type": "display_data"
    }
   ],
   "source": [
    "(slope, intercept, rvalue, pvalue, stderr) = stats.linregress(north_lat, north_wind)\n",
    "regress_values = north_lat * slope + intercept\n",
    "line_eq = \"y = \" + str(round(slope,2)) + \"x +\" + str(round(intercept,2))\n",
    "\n",
    "plt.scatter(north_lat, north_wind)\n",
    "plt.plot(north_lat,regress_values,\"r-\")\n",
    "\n",
    "plt.xlabel('Latitude')\n",
    "plt.ylabel('Wind Speed (mph)')\n",
    "plt.annotate(line_eq,(20,15),fontsize=15,color=\"red\")\n",
    "\n",
    "print(f\"The r-value is: {rvalue**2}\")\n",
    "plt.savefig(\"charts/north_windVlat.png\")\n",
    "plt.show()"
   ]
  },
  {
   "cell_type": "markdown",
   "metadata": {},
   "source": [
    "####  Southern Hemisphere - Wind Speed (mph) vs. Latitude Linear Regression"
   ]
  },
  {
   "cell_type": "code",
   "execution_count": 28,
   "metadata": {},
   "outputs": [
    {
     "name": "stdout",
     "output_type": "stream",
     "text": [
      "The r-value is: 0.020249059457007185\n"
     ]
    },
    {
     "data": {
      "image/png": "[encoded data removed]",
      "text/plain": [
       "<Figure size 432x288 with 1 Axes>"
      ]
     },
     "metadata": {
      "needs_background": "light"
     },
     "output_type": "display_data"
    }
   ],
   "source": [
    "(slope, intercept, rvalue, pvalue, stderr) = stats.linregress(south_lat, south_wind)\n",
    "regress_values = south_lat * slope + intercept\n",
    "line_eq = \"y = \" + str(round(slope,2)) + \"x +\" + str(round(intercept,2))\n",
    "\n",
    "plt.scatter(south_lat, south_wind)\n",
    "plt.plot(south_lat,regress_values,\"r-\")\n",
    "\n",
    "plt.xlabel('Latitude')\n",
    "plt.ylabel('Wind Speed (mph)')\n",
    "plt.annotate(line_eq,(20,15),fontsize=15,color=\"red\")\n",
    "\n",
    "print(f\"The r-value is: {rvalue**2}\")\n",
    "plt.savefig(\"charts/south_windVlat.png\")\n",
    "plt.show()"
   ]
  },
  {
   "cell_type": "code",
   "execution_count": null,
   "metadata": {},
   "outputs": [],
   "source": []
  }
 ],
 "metadata": {
  "anaconda-cloud": {},
  "kernel_info": {
   "name": "python3"
  },
  "kernelspec": {
   "display_name": "Python 3",
   "language": "python",
   "name": "python3"
  },
  "language_info": {
   "codemirror_mode": {
    "name": "ipython",
    "version": 3
   },
   "file_extension": ".py",
   "mimetype": "text/x-python",
   "name": "python",
   "nbconvert_exporter": "python",
   "pygments_lexer": "ipython3",
   "version": "3.8.5"
  },
  "latex_envs": {
   "LaTeX_envs_menu_present": true,
   "autoclose": false,
   "autocomplete": true,
   "bibliofile": "biblio.bib",
   "cite_by": "apalike",
   "current_citInitial": 1,
   "eqLabelWithNumbers": true,
   "eqNumInitial": 1,
   "hotkeys": {
    "equation": "Ctrl-E",
    "itemize": "Ctrl-I"
   },
   "labels_anchors": false,
   "latex_user_defs": false,
   "report_style_numbering": false,
   "user_envs_cfg": false
  },
  "nteract": {
   "version": "0.12.3"
  }
 },
 "nbformat": 4,
 "nbformat_minor": 2
}
